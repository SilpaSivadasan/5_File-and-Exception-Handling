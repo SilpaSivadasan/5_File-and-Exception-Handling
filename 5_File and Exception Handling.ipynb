{
 "cells": [
  {
   "cell_type": "markdown",
   "id": "64516918-dc44-4249-a487-1dbcc576ef08",
   "metadata": {},
   "source": [
    " 1) Write a Python program to read a file and display its contents\n"
   ]
  },
  {
   "cell_type": "code",
   "execution_count": 6,
   "id": "23ac1a0e-87e2-4c40-86e0-fbfaa94d3974",
   "metadata": {},
   "outputs": [
    {
     "name": "stdout",
     "output_type": "stream",
     "text": [
      "File contents:\n",
      " Hello, this is a test file.\n",
      "It contains some sample text.\n"
     ]
    }
   ],
   "source": [
    "with open(\"example.txt\", \"w\") as file:\n",
    "    file.write(\"Hello, this is a test file.\\nIt contains some sample text.\")\n",
    "\n",
    "def read_file(filename):\n",
    "    try:\n",
    "        with open(filename, \"r\") as file: \n",
    "            content = file.read() \n",
    "            print(\"File contents:\\n\", content)  \n",
    "    except FileNotFoundError:\n",
    "        print(\"Error: File not found.\")\n",
    "\n",
    "# Call the function\n",
    "read_file(\"example.txt\")\n",
    "\n"
   ]
  },
  {
   "cell_type": "markdown",
   "id": "019794d6-be91-4795-98a8-3e6ea5fe779f",
   "metadata": {},
   "source": [
    " 2) Write a Python program to copy the contents of one file to another file\n",
    "    "
   ]
  },
  {
   "cell_type": "code",
   "execution_count": 10,
   "id": "70aefa48-961a-472d-855d-ab991ae7fe2c",
   "metadata": {},
   "outputs": [
    {
     "name": "stdout",
     "output_type": "stream",
     "text": [
      "File 'example.txt' successfully copied to 'copy_example.txt'.\n"
     ]
    }
   ],
   "source": [
    "def copy_file(source, destination):\n",
    "    try:\n",
    "        with open(source, \"r\") as src:  \n",
    "            content = src.read()  \n",
    "        \n",
    "        with open(destination, \"w\") as dest:  \n",
    "            dest.write(content) \n",
    "        \n",
    "        print(f\"File '{source}' successfully copied to '{destination}'.\")\n",
    "    \n",
    "    except FileNotFoundError:\n",
    "        print(\"Error: Source file not found.\")\n",
    "\n",
    "# Example usage\n",
    "copy_file(\"example.txt\", \"copy_example.txt\")  \n"
   ]
  },
  {
   "cell_type": "markdown",
   "id": "66d352e2-2f42-43c7-babe-7474f87ecd9f",
   "metadata": {},
   "source": [
    "3. Write a Python program to read the content of a file and count the total number of words in that file."
   ]
  },
  {
   "cell_type": "code",
   "execution_count": 13,
   "id": "4cdd3f2d-4543-4463-9ad4-c265d9d66134",
   "metadata": {},
   "outputs": [
    {
     "name": "stdout",
     "output_type": "stream",
     "text": [
      "Total number of words in 'example.txt': 11\n"
     ]
    }
   ],
   "source": [
    "def count_words(filename):\n",
    "    try:\n",
    "        with open(filename, \"r\") as file:  # Open file in read mode\n",
    "            content = file.read()  # Read file content\n",
    "            words = content.split()  # Split content into words\n",
    "            word_count = len(words)  # Count the number of words\n",
    "            print(f\"Total number of words in '{filename}': {word_count}\")\n",
    "    except FileNotFoundError:\n",
    "        print(\"Error: File not found.\")\n",
    "\n",
    "# Example usage\n",
    "count_words(\"example.txt\")  # Replace with your file name\n"
   ]
  },
  {
   "cell_type": "markdown",
   "id": "508f7ea2-1e15-4981-b4e4-6f502834806b",
   "metadata": {},
   "source": [
    "Convert a String to an Integer with Exception Handling"
   ]
  },
  {
   "cell_type": "code",
   "execution_count": 18,
   "id": "87508cff-5927-47ac-a7ff-9cdc108ee3af",
   "metadata": {},
   "outputs": [
    {
     "name": "stdin",
     "output_type": "stream",
     "text": [
      "Enter a number:  -5\n"
     ]
    },
    {
     "name": "stdout",
     "output_type": "stream",
     "text": [
      "Converted integer: -5\n"
     ]
    }
   ],
   "source": [
    "def convert_to_integer():\n",
    "    try:\n",
    "        user_input = input(\"Enter a number: \")\n",
    "        num = int(user_input)  # Convert string to integer\n",
    "        print(f\"Converted integer: {num}\")\n",
    "    except ValueError:\n",
    "        print(\"Error: Invalid input. Please enter a valid integer.\")\n",
    "\n",
    "convert_to_integer()\n"
   ]
  },
  {
   "cell_type": "markdown",
   "id": "19c63785-e256-48be-91f4-38286a9167a3",
   "metadata": {},
   "source": [
    "Write a Python program that prompts the user to input a list of integers and raises an exception if any of the integers in the list are negative."
   ]
  },
  {
   "cell_type": "code",
   "execution_count": 25,
   "id": "deeb0ff4-6b3b-4271-9117-301c26287a3e",
   "metadata": {},
   "outputs": [
    {
     "name": "stdin",
     "output_type": "stream",
     "text": [
      "Enter a list of integers separated by spaces:  5 11 -3\n"
     ]
    },
    {
     "name": "stdout",
     "output_type": "stream",
     "text": [
      "Error: Negative numbers are not allowed.\n"
     ]
    }
   ],
   "source": [
    "def check_positive_numbers():\n",
    "    try:\n",
    "        numbers = list(map(int, input(\"Enter a list of integers separated by spaces: \").split()))\n",
    "        if any(n < 0 for n in numbers):\n",
    "            raise ValueError(\"Error: Negative numbers are not allowed.\")\n",
    "        print(\"All numbers are positive.\")\n",
    "    except ValueError as e:\n",
    "        print(e)\n",
    "\n",
    "check_positive_numbers()\n"
   ]
  },
  {
   "cell_type": "markdown",
   "id": "c85e5785-4467-427b-a17d-e364fb02775e",
   "metadata": {},
   "source": [
    "Write a Python program that prompts the user to input a list of integers and computes the average of those integers. Use try-except blocks to handle any exceptions that might occur.use the finally clause to print a message indicating that the program has finished running."
   ]
  },
  {
   "cell_type": "code",
   "execution_count": 28,
   "id": "a5397a6c-62bb-4484-82db-c68ed15e416a",
   "metadata": {},
   "outputs": [
    {
     "name": "stdin",
     "output_type": "stream",
     "text": [
      "Enter a list of integers separated by spaces:  1 2 3 4 5\n"
     ]
    },
    {
     "name": "stdout",
     "output_type": "stream",
     "text": [
      "Average: 3.00\n",
      "Program has finished running.\n"
     ]
    }
   ],
   "source": [
    "def compute_average():\n",
    "    try:\n",
    "        numbers = list(map(int, input(\"Enter a list of integers separated by spaces: \").split()))\n",
    "        \n",
    "        if not numbers:  # Check if the list is empty\n",
    "            raise ValueError(\"Error: List is empty. Cannot compute average.\")\n",
    "        \n",
    "        avg = sum(numbers) / len(numbers)  # Calculate average\n",
    "        print(f\"Average: {avg:.2f}\")  # Print result with 2 decimal places\n",
    "        \n",
    "    except ValueError as e:\n",
    "        print(f\"Error: {e}\")\n",
    "        \n",
    "    except ZeroDivisionError:  # In case of empty input\n",
    "        print(\"Error: Cannot divide by zero.\")\n",
    "        \n",
    "    finally:\n",
    "        print(\"Program has finished running.\")  # Always executes\n",
    "\n",
    "# Call the function\n",
    "compute_average()\n"
   ]
  },
  {
   "cell_type": "markdown",
   "id": "e90011f9-786d-4ef7-aa68-63292d0268ab",
   "metadata": {},
   "source": [
    "Write a Python program that prompts the user to input a filename and writes a string to that file. Use try-except blocks to handle any exceptions that might occur and print a welcome message if there is no exception occurred."
   ]
  },
  {
   "cell_type": "code",
   "execution_count": 31,
   "id": "6353d165-84bd-4016-a992-7f51e6ebf5fd",
   "metadata": {},
   "outputs": [
    {
     "name": "stdin",
     "output_type": "stream",
     "text": [
      "Enter the filename:  silpa.txt\n",
      "Enter the text to write into the file:  Hi silpa , Welcome To the world of python\n"
     ]
    },
    {
     "name": "stdout",
     "output_type": "stream",
     "text": [
      "Welcome! File has been written successfully.\n"
     ]
    }
   ],
   "source": [
    "def write_to_file():\n",
    "    try:\n",
    "        filename = input(\"Enter the filename: \")  # Get filename from user\n",
    "        content = input(\"Enter the text to write into the file: \")  # Get content from user\n",
    "\n",
    "        with open(filename, \"w\") as file:  # Open file in write mode\n",
    "            file.write(content)  # Write the content to file\n",
    "\n",
    "        print(\"Welcome! File has been written successfully.\")  # Success message\n",
    "\n",
    "    except Exception as e:  # Catch any exceptions\n",
    "        print(f\"Error: {e}\")  # Print error message\n",
    "\n",
    "# Call the function\n",
    "write_to_file()\n"
   ]
  },
  {
   "cell_type": "code",
   "execution_count": null,
   "id": "4a394b33-46bb-452f-a37d-729cc4520d96",
   "metadata": {},
   "outputs": [],
   "source": []
  }
 ],
 "metadata": {
  "kernelspec": {
   "display_name": "Python [conda env:base] *",
   "language": "python",
   "name": "conda-base-py"
  },
  "language_info": {
   "codemirror_mode": {
    "name": "ipython",
    "version": 3
   },
   "file_extension": ".py",
   "mimetype": "text/x-python",
   "name": "python",
   "nbconvert_exporter": "python",
   "pygments_lexer": "ipython3",
   "version": "3.12.7"
  }
 },
 "nbformat": 4,
 "nbformat_minor": 5
}
